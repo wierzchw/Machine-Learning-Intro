{
 "cells": [
  {
   "cell_type": "markdown",
   "id": "48380562",
   "metadata": {},
   "source": [
    "# Preprocessing\n",
    "### Wiktor Wierzchowski Wojciech Grabias\n",
    "##### ramka 1"
   ]
  },
  {
   "cell_type": "code",
   "execution_count": null,
   "id": "36fafe0e",
   "metadata": {},
   "outputs": [],
   "source": [
    "# W celu uzyskania odpowiednio danych testowych i treningowych należy podmienić nazwy\n",
    "# W ostatnich komórkach jak i komórce oznaczonej 'Zamiana valid/train/test'"
   ]
  },
  {
   "cell_type": "code",
   "execution_count": 59,
   "id": "bca8984a",
   "metadata": {},
   "outputs": [],
   "source": [
    "import pandas as pd\n",
    "import numpy as np\n",
    "from sklearn.model_selection import train_test_split\n",
    "from sklearn.feature_extraction.text import TfidfVectorizer\n",
    "from sklearn.decomposition import NMF\n",
    "import matplotlib.pyplot as plt\n",
    "from yellowbrick.cluster import KElbowVisualizer\n",
    "from sklearn_extra.cluster import KMedoids\n",
    "import scipy.cluster.hierarchy as shc\n",
    "from sklearn.cluster import AffinityPropagation\n",
    "from fastDamerauLevenshtein import damerauLevenshtein\n",
    "from sklearn import metrics\n",
    "from sklearn.manifold import MDS\n",
    "from sklearn.cluster import KMeans\n",
    "import distance\n",
    "import matplotlib.pyplot as plt\n",
    "from mpl_toolkits.mplot3d import Axes3D\n",
    "import re\n",
    "import webcolors\n",
    "from tqdm import tqdm\n",
    "import math\n",
    "from sklearn.cluster import MiniBatchKMeans"
   ]
  },
  {
   "cell_type": "code",
   "execution_count": 61,
   "id": "6c13b024",
   "metadata": {},
   "outputs": [
    {
     "data": {
      "text/plain": [
       "0.0625"
      ]
     },
     "execution_count": 61,
     "metadata": {},
     "output_type": "execute_result"
    }
   ],
   "source": [
    "1 - damerauLevenshtein('BOSCH WAN282MXPL', 'BOSCH WAN282MSPL')"
   ]
  },
  {
   "cell_type": "code",
   "execution_count": 9,
   "id": "4e450553",
   "metadata": {},
   "outputs": [],
   "source": [
    "df = pd.read_csv('pricerunner_aggregate.csv')"
   ]
  },
  {
   "cell_type": "code",
   "execution_count": 69,
   "id": "2bcf354e",
   "metadata": {},
   "outputs": [
    {
     "name": "stdout",
     "output_type": "stream",
     "text": [
      "<class 'pandas.core.frame.DataFrame'>\n",
      "RangeIndex: 35310 entries, 0 to 35309\n",
      "Data columns (total 7 columns):\n",
      " #   Column         Non-Null Count  Dtype \n",
      "---  ------         --------------  ----- \n",
      " 0   ID             35310 non-null  int64 \n",
      " 1   Title          35310 non-null  object\n",
      " 2   VendorID       35310 non-null  int64 \n",
      " 3   ClusterID      35310 non-null  int64 \n",
      " 4   ClusterLabel   35310 non-null  object\n",
      " 5   CategoryID     35310 non-null  int64 \n",
      " 6   CategoryLabel  35310 non-null  object\n",
      "dtypes: int64(4), object(3)\n",
      "memory usage: 1.9+ MB\n"
     ]
    }
   ],
   "source": [
    "df.info()"
   ]
  },
  {
   "cell_type": "markdown",
   "id": "3742c6b1",
   "metadata": {},
   "source": [
    "Przegląd danych"
   ]
  },
  {
   "cell_type": "code",
   "execution_count": 68,
   "id": "4a90672a",
   "metadata": {
    "scrolled": true
   },
   "outputs": [
    {
     "data": {
      "text/plain": [
       "'hewlett packard enterprise amd opteron 8380 2.5ghz 6mb l3 processor'"
      ]
     },
     "execution_count": 68,
     "metadata": {},
     "output_type": "execute_result"
    }
   ],
   "source": [
    "df['Title'].iloc[10411]"
   ]
  },
  {
   "cell_type": "code",
   "execution_count": 11,
   "id": "e77b466c",
   "metadata": {},
   "outputs": [],
   "source": [
    "df.columns = ['ID', 'Title', 'VendorID', 'ClusterID', 'ClusterLabel', 'CategoryID', 'CategoryLabel']"
   ]
  },
  {
   "cell_type": "code",
   "execution_count": 12,
   "id": "a19855ef",
   "metadata": {},
   "outputs": [
    {
     "data": {
      "text/plain": [
       "CategoryID\n",
       "2612       [Mobile Phones]\n",
       "2614                 [TVs]\n",
       "2615                [CPUs]\n",
       "2617     [Digital Cameras]\n",
       "2618          [Microwaves]\n",
       "2619         [Dishwashers]\n",
       "2620    [Washing Machines]\n",
       "2621            [Freezers]\n",
       "2622     [Fridge Freezers]\n",
       "2623             [Fridges]\n",
       "Name: CategoryLabel, dtype: object"
      ]
     },
     "execution_count": 12,
     "metadata": {},
     "output_type": "execute_result"
    }
   ],
   "source": [
    "# Są to kolumny jednoznaczne\n",
    "df.groupby(['CategoryID'])['CategoryLabel'].unique()"
   ]
  },
  {
   "cell_type": "code",
   "execution_count": 13,
   "id": "6711c6d8",
   "metadata": {},
   "outputs": [
    {
     "name": "stdout",
     "output_type": "stream",
     "text": [
      "<class 'pandas.core.frame.DataFrame'>\n",
      "RangeIndex: 35310 entries, 0 to 35309\n",
      "Data columns (total 7 columns):\n",
      " #   Column         Non-Null Count  Dtype \n",
      "---  ------         --------------  ----- \n",
      " 0   ID             35310 non-null  int64 \n",
      " 1   Title          35310 non-null  object\n",
      " 2   VendorID       35310 non-null  int64 \n",
      " 3   ClusterID      35310 non-null  int64 \n",
      " 4   ClusterLabel   35310 non-null  object\n",
      " 5   CategoryID     35310 non-null  int64 \n",
      " 6   CategoryLabel  35310 non-null  object\n",
      "dtypes: int64(4), object(3)\n",
      "memory usage: 1.9+ MB\n"
     ]
    }
   ],
   "source": [
    "df.info()"
   ]
  },
  {
   "cell_type": "markdown",
   "id": "0a064e82",
   "metadata": {},
   "source": [
    "Podział zbioru"
   ]
  },
  {
   "cell_type": "code",
   "execution_count": 14,
   "id": "a102fdfa",
   "metadata": {},
   "outputs": [],
   "source": [
    "# Podział ze względu na CategoryLabel\n",
    "groups = df.groupby('CategoryLabel')\n",
    "MAIN_df = pd.DataFrame(columns=df.columns)\n",
    "trash_df = pd.DataFrame(columns=df.columns)\n",
    "for _, group in groups:\n",
    "    group_MAIN, group_trash = train_test_split(group, test_size=0.55, random_state=2137)\n",
    "    MAIN_df = pd.concat([MAIN_df, group_MAIN])\n",
    "    trash_df = pd.concat([trash_df, group_trash])\n",
    "\n",
    "# Reset the index of train and test DataFrames\n",
    "MAIN_df.reset_index(drop=True, inplace=True)\n",
    "trash_df.reset_index(drop=True, inplace=True)"
   ]
  },
  {
   "cell_type": "code",
   "execution_count": 15,
   "id": "b748f5e5",
   "metadata": {},
   "outputs": [],
   "source": [
    "# Podział ze względu na CategoryLabel\n",
    "groups = MAIN_df.groupby('CategoryLabel')\n",
    "TRAIN_df = pd.DataFrame(columns=df.columns)\n",
    "valid_df = pd.DataFrame(columns=df.columns)\n",
    "for _, group in groups:\n",
    "    group_train, group_valid = train_test_split(group, test_size=0.3, random_state=2137)\n",
    "    TRAIN_df = pd.concat([TRAIN_df, group_train])\n",
    "    valid_df = pd.concat([valid_df, group_valid])\n",
    "\n",
    "# Reset the index of train and test DataFrames\n",
    "TRAIN_df.reset_index(drop=True, inplace=True)\n",
    "valid_df.reset_index(drop=True, inplace=True)"
   ]
  },
  {
   "cell_type": "code",
   "execution_count": 16,
   "id": "587eda79",
   "metadata": {},
   "outputs": [],
   "source": [
    "# Podział ze względu na CategoryLabel\n",
    "groups = TRAIN_df.groupby('CategoryLabel')\n",
    "train_df = pd.DataFrame(columns=df.columns)\n",
    "test_df = pd.DataFrame(columns=df.columns)\n",
    "for _, group in groups:\n",
    "    group_train, group_test = train_test_split(group, test_size=0.3, random_state=2137)\n",
    "    train_df = pd.concat([train_df, group_train])\n",
    "    test_df = pd.concat([test_df, group_test])\n",
    "\n",
    "# Reset the index of train and test DataFrames\n",
    "train_df.reset_index(drop=True, inplace=True)\n",
    "test_df.reset_index(drop=True, inplace=True)"
   ]
  },
  {
   "cell_type": "code",
   "execution_count": 17,
   "id": "eff7c123",
   "metadata": {},
   "outputs": [
    {
     "name": "stdout",
     "output_type": "stream",
     "text": [
      "<class 'pandas.core.frame.DataFrame'>\n",
      "RangeIndex: 7776 entries, 0 to 7775\n",
      "Data columns (total 7 columns):\n",
      " #   Column         Non-Null Count  Dtype \n",
      "---  ------         --------------  ----- \n",
      " 0   ID             7776 non-null   object\n",
      " 1   Title          7776 non-null   object\n",
      " 2   VendorID       7776 non-null   object\n",
      " 3   ClusterID      7776 non-null   object\n",
      " 4   ClusterLabel   7776 non-null   object\n",
      " 5   CategoryID     7776 non-null   object\n",
      " 6   CategoryLabel  7776 non-null   object\n",
      "dtypes: object(7)\n",
      "memory usage: 425.4+ KB\n"
     ]
    }
   ],
   "source": [
    "train_df.info()"
   ]
  },
  {
   "cell_type": "code",
   "execution_count": 18,
   "id": "7c5e0284",
   "metadata": {},
   "outputs": [
    {
     "name": "stdout",
     "output_type": "stream",
     "text": [
      "<class 'pandas.core.frame.DataFrame'>\n",
      "RangeIndex: 3339 entries, 0 to 3338\n",
      "Data columns (total 7 columns):\n",
      " #   Column         Non-Null Count  Dtype \n",
      "---  ------         --------------  ----- \n",
      " 0   ID             3339 non-null   object\n",
      " 1   Title          3339 non-null   object\n",
      " 2   VendorID       3339 non-null   object\n",
      " 3   ClusterID      3339 non-null   object\n",
      " 4   ClusterLabel   3339 non-null   object\n",
      " 5   CategoryID     3339 non-null   object\n",
      " 6   CategoryLabel  3339 non-null   object\n",
      "dtypes: object(7)\n",
      "memory usage: 182.7+ KB\n"
     ]
    }
   ],
   "source": [
    "test_df.info()"
   ]
  },
  {
   "cell_type": "markdown",
   "id": "08e61c9d",
   "metadata": {},
   "source": [
    "Obróbka stringów"
   ]
  },
  {
   "cell_type": "code",
   "execution_count": 19,
   "id": "61b40420",
   "metadata": {},
   "outputs": [],
   "source": [
    "def preprocess(df):\n",
    "    def text_correction(text):\n",
    "        \n",
    "        #Podstawowa obróbka i usunięcie emoji\n",
    "        text = re.sub('<[^>]*>', '', text)\n",
    "        emoticons = re.findall('(?::|;|=)(?:-)?(?:\\)|\\(|D|P)', text)\n",
    "        text = (re.sub('[\\W]+', ' ', text.lower()) + ' ' .join(emoticons).replace('-', ''))\n",
    "        \n",
    "        # Usunięcie pojedynczych cyfr\n",
    "        text = re.sub(r'\\b\\d\\b', '', text)\n",
    "        text = re.sub(r'(?<!\\d)\\d(?!\\d)', '', text)\n",
    "        text = re.sub(r'\\s+', ' ', text)\n",
    "        return text\n",
    "    \n",
    "    # Usunięcie zbędnych kolumn\n",
    "    df.drop(columns=['ID', 'VendorID', 'ClusterID', 'ClusterLabel', 'CategoryID', 'CategoryLabel'], inplace=True)\n",
    "    # Korekta tekstu\n",
    "    df['Title'] = df['Title'].apply(text_correction)\n",
    "    # Usunięcie informacji o kolorze\n",
    "    colors = list(webcolors.CSS3_NAMES_TO_HEX)\n",
    "    df['Title'] = [' '.join([x for x in string.split() if x not in colors]) for string in df['Title']]"
   ]
  },
  {
   "cell_type": "code",
   "execution_count": 20,
   "id": "4a015386",
   "metadata": {},
   "outputs": [],
   "source": [
    "preprocess(train_df)\n",
    "preprocess(test_df)\n",
    "preprocess(valid_df)"
   ]
  },
  {
   "cell_type": "code",
   "execution_count": null,
   "id": "af999a20",
   "metadata": {},
   "outputs": [],
   "source": []
  },
  {
   "cell_type": "code",
   "execution_count": 21,
   "id": "89339927",
   "metadata": {},
   "outputs": [
    {
     "data": {
      "text/html": [
       "<div>\n",
       "<style scoped>\n",
       "    .dataframe tbody tr th:only-of-type {\n",
       "        vertical-align: middle;\n",
       "    }\n",
       "\n",
       "    .dataframe tbody tr th {\n",
       "        vertical-align: top;\n",
       "    }\n",
       "\n",
       "    .dataframe thead th {\n",
       "        text-align: right;\n",
       "    }\n",
       "</style>\n",
       "<table border=\"1\" class=\"dataframe\">\n",
       "  <thead>\n",
       "    <tr style=\"text-align: right;\">\n",
       "      <th></th>\n",
       "      <th>Title</th>\n",
       "    </tr>\n",
       "  </thead>\n",
       "  <tbody>\n",
       "    <tr>\n",
       "      <th>0</th>\n",
       "      <td>intel core i 6100 skylake 70ghz dual core</td>\n",
       "    </tr>\n",
       "    <tr>\n",
       "      <th>1</th>\n",
       "      <td>intel xeon e 2608lv ghz core 16 threads 20 mb ...</td>\n",
       "    </tr>\n",
       "    <tr>\n",
       "      <th>2</th>\n",
       "      <td>intel core i i 8500t hexa core core 10 ghz pro...</td>\n",
       "    </tr>\n",
       "    <tr>\n",
       "      <th>3</th>\n",
       "      <td>hp intel xeon x5450 ghz 12mb l processor</td>\n",
       "    </tr>\n",
       "    <tr>\n",
       "      <th>4</th>\n",
       "      <td>hewlett packard enterprise 495906 b21 ghz mb l...</td>\n",
       "    </tr>\n",
       "  </tbody>\n",
       "</table>\n",
       "</div>"
      ],
      "text/plain": [
       "                                               Title\n",
       "0          intel core i 6100 skylake 70ghz dual core\n",
       "1  intel xeon e 2608lv ghz core 16 threads 20 mb ...\n",
       "2  intel core i i 8500t hexa core core 10 ghz pro...\n",
       "3           hp intel xeon x5450 ghz 12mb l processor\n",
       "4  hewlett packard enterprise 495906 b21 ghz mb l..."
      ]
     },
     "execution_count": 21,
     "metadata": {},
     "output_type": "execute_result"
    }
   ],
   "source": [
    "train_df.head()"
   ]
  },
  {
   "cell_type": "markdown",
   "id": "5f30153f",
   "metadata": {},
   "source": [
    "Rozbicie stringów z nazwami produktów na listy pojedyńczych słów"
   ]
  },
  {
   "cell_type": "code",
   "execution_count": 51,
   "id": "e1b8f222",
   "metadata": {
    "scrolled": true
   },
   "outputs": [
    {
     "data": {
      "text/plain": [
       "array(['intel xeon bronze 31061 70ghz fc lga1411mb cache box cpu',\n",
       "       'intel xeon e 4607 processor ghz box 12 mb smart cache',\n",
       "       'intel xeon e 2660v processor ghz 25 mb smart cache', ...,\n",
       "       'bosch serie wab28261gb kg load 1400 spin washing machine with acti',\n",
       "       'siemens wk14d321gb built in kg washer dryer',\n",
       "       'hotpoint wmbf944k 1400rpm kg experience washing machine'],\n",
       "      dtype=object)"
      ]
     },
     "execution_count": 51,
     "metadata": {},
     "output_type": "execute_result"
    }
   ],
   "source": [
    "# Zamiana valid/train/test\n",
    "titles_array = valid_df['Title'].values\n",
    "titles_array"
   ]
  },
  {
   "cell_type": "code",
   "execution_count": 52,
   "id": "4543a894",
   "metadata": {
    "scrolled": true
   },
   "outputs": [
    {
     "data": {
      "text/plain": [
       "array([list(['intel', 'xeon', 'bronze', '31061', '70ghz', 'fc', 'lga1411mb', 'cache', 'box', 'cpu']),\n",
       "       list(['intel', 'xeon', 'e', '4607', 'processor', 'ghz', 'box', '12', 'mb', 'smart', 'cache']),\n",
       "       list(['intel', 'xeon', 'e', '2660v', 'processor', 'ghz', '25', 'mb', 'smart', 'cache']),\n",
       "       ...,\n",
       "       list(['bosch', 'serie', 'wab28261gb', 'kg', 'load', '1400', 'spin', 'washing', 'machine', 'with', 'acti']),\n",
       "       list(['siemens', 'wk14d321gb', 'built', 'in', 'kg', 'washer', 'dryer']),\n",
       "       list(['hotpoint', 'wmbf944k', '1400rpm', 'kg', 'experience', 'washing', 'machine'])],\n",
       "      dtype=object)"
      ]
     },
     "execution_count": 52,
     "metadata": {},
     "output_type": "execute_result"
    }
   ],
   "source": [
    "title_words_array = np.asarray([k.split() for k in titles_array])\n",
    "title_words_array"
   ]
  },
  {
   "cell_type": "code",
   "execution_count": 36,
   "id": "1583d504",
   "metadata": {},
   "outputs": [],
   "source": [
    "pd.DataFrame(title_words_array, index=None).to_csv('titles_final_valid.csv')"
   ]
  },
  {
   "cell_type": "code",
   "execution_count": 37,
   "id": "afbe47f9",
   "metadata": {},
   "outputs": [],
   "source": [
    "dftest = pd.read_csv('titles_final_valid.csv', index_col=None)"
   ]
  },
  {
   "cell_type": "markdown",
   "id": "8ee6e833",
   "metadata": {},
   "source": [
    "Funkcja tworząca macierz dystansów między nazwami produktów w oparciu o dystans Jaccarda. W przypadku gdy nazwy dzielą jedynie pierwsze słowo jest ono pomijane. Robimy taj ponieważ zauważyliśmy niechciany, duży wpływ nazw firm na wyniki clasteryzacji. Z racji na to że są one z reguły umieszczane w nazwie oferty jako pierwsze taki zabieg ma na celu zminimalizować ten wpływ."
   ]
  },
  {
   "cell_type": "code",
   "execution_count": 38,
   "id": "8648fa88",
   "metadata": {},
   "outputs": [],
   "source": [
    "def jacc_sim(words_array, batch_size):\n",
    "    n = len(words_array)\n",
    "    jacc_sim = np.zeros((n, n))\n",
    "    \n",
    "    with tqdm(total = math.ceil(n/batch_size)**2, desc='Przeliczone batche:') as pbar:\n",
    "        for i in range(0, n, batch_size):\n",
    "            batch_start = i\n",
    "            batch_end = min(n, i + batch_size)\n",
    "\n",
    "            for j in range(0, n, batch_size):\n",
    "                if i > j:\n",
    "                    continue \n",
    "                \n",
    "                batch_start2 = j\n",
    "                batch_end2 = min(n, j + batch_size)\n",
    "                \n",
    "                distances = np.zeros((batch_end-batch_start, batch_end2-batch_start2))\n",
    "                \n",
    "                for k in range(batch_end-batch_start):\n",
    "                    for l in range(batch_end2-batch_start2):\n",
    "                        d1 = distance.jaccard(title_words_array[i + k], title_words_array[j + l])\n",
    "                        \n",
    "                        if(len(title_words_array[i + k])==1 or len(title_words_array[j + l])==1):\n",
    "                            distances[k][l] = d1\n",
    "                        else:    \n",
    "                            d2 = distance.jaccard(title_words_array[i + k][1:], title_words_array[j + l])\n",
    "                            d3 = distance.jaccard(title_words_array[i + k][1:], title_words_array[j + l][1:])\n",
    "                            if (d1 != 1 and d2 == 1):\n",
    "                                distances[k][l] = d3\n",
    "                            else:\n",
    "                                distances[k][l] = d1\n",
    "\n",
    "                jacc_sim[batch_start:batch_end, batch_start2:batch_end2] = distances\n",
    "                pbar.update(1)\n",
    "                \n",
    "                if i < j:\n",
    "                    jacc_sim[batch_start2:batch_end2, batch_start:batch_end] = distances.transpose()\n",
    "                    pbar.update(1)\n",
    "\n",
    "    return jacc_sim"
   ]
  },
  {
   "cell_type": "code",
   "execution_count": 53,
   "id": "6b35110b",
   "metadata": {
    "scrolled": false
   },
   "outputs": [
    {
     "name": "stderr",
     "output_type": "stream",
     "text": [
      "Przeliczone batche:: 100%|█████████████████████████████████████████████████████████████████████████████████████████████████████████████████████████████████████████████████████████████████████████| 1/1 [01:04<00:00, 64.58s/it]\n"
     ]
    }
   ],
   "source": [
    "# i love you more\n",
    "jacc_similarity = jacc_sim(title_words_array, 5000)\n",
    "# TEMPO: [19:34<00:00, 46.97s/it]"
   ]
  },
  {
   "cell_type": "code",
   "execution_count": 54,
   "id": "93483d98",
   "metadata": {
    "scrolled": false
   },
   "outputs": [
    {
     "data": {
      "text/plain": [
       "array([[0.        , 0.76470588, 0.82352941, 0.9047619 , 0.95      ,\n",
       "        0.85      , 0.9       , 0.88888889, 1.        , 0.88888889],\n",
       "       [0.76470588, 0.        , 0.38461538, 0.8       , 0.77777778,\n",
       "        0.66666667, 0.72222222, 0.76470588, 0.90909091, 0.83333333],\n",
       "       [0.82352941, 0.38461538, 0.        , 0.78947368, 0.83333333,\n",
       "        0.64705882, 0.70588235, 0.75      , 0.9047619 , 0.82352941],\n",
       "       [0.9047619 , 0.8       , 0.78947368, 0.        , 0.66666667,\n",
       "        0.86956522, 0.68421053, 0.46666667, 0.63157895, 0.78947368],\n",
       "       [0.95      , 0.77777778, 0.83333333, 0.66666667, 0.        ,\n",
       "        0.90909091, 0.78947368, 0.6       , 0.5       , 0.95      ],\n",
       "       [0.85      , 0.66666667, 0.64705882, 0.86956522, 0.90909091,\n",
       "        0.        , 0.80952381, 0.85      , 0.91666667, 0.85      ],\n",
       "       [0.9       , 0.72222222, 0.70588235, 0.68421053, 0.78947368,\n",
       "        0.80952381, 0.        , 0.70588235, 0.80952381, 0.625     ],\n",
       "       [0.88888889, 0.76470588, 0.75      , 0.46666667, 0.6       ,\n",
       "        0.85      , 0.70588235, 0.        , 0.72222222, 0.82352941],\n",
       "       [1.        , 0.90909091, 0.9047619 , 0.63157895, 0.5       ,\n",
       "        0.91666667, 0.80952381, 0.72222222, 0.        , 0.95454545],\n",
       "       [0.88888889, 0.83333333, 0.82352941, 0.78947368, 0.95      ,\n",
       "        0.85      , 0.625     , 0.82352941, 0.95454545, 0.        ]])"
      ]
     },
     "execution_count": 54,
     "metadata": {},
     "output_type": "execute_result"
    }
   ],
   "source": [
    "jacc_similarity[0:10, 0:10]"
   ]
  },
  {
   "cell_type": "code",
   "execution_count": 55,
   "id": "17ff73a7",
   "metadata": {},
   "outputs": [],
   "source": [
    "jacc_df = pd.DataFrame(jacc_similarity)\n",
    "jacc_df.to_csv(\"jacc_similarity_final_valid.csv\")"
   ]
  },
  {
   "cell_type": "markdown",
   "id": "e9b8b44e",
   "metadata": {},
   "source": [
    "Analogicznie jak wcześniej tworzymy jeszcze macierz dystansów w oparciu o podobieństwo leksykograficzne przy użyciu odległości damerau-levenshteina. Robimy to z nadzieją na uwzględnienie podobieństwa produktów które różnią się od siebie oznaczeniami technicznymi, np. BOSCH WAN282MXPL i BOSCH WAN282MSPL które funkcja jacc_sim uznała by za zupełnie odległe."
   ]
  },
  {
   "cell_type": "code",
   "execution_count": 42,
   "id": "e49aec43",
   "metadata": {},
   "outputs": [],
   "source": [
    "def lex_sim(words_array, batch_size):\n",
    "    n = len(words_array)\n",
    "    lex_sim = np.zeros((n, n))\n",
    "    \n",
    "    with tqdm(total = math.ceil(n/batch_size)**2, desc='Przeliczone batche:') as pbar:\n",
    "        for i in range(0, n, batch_size):\n",
    "            batch_start = i\n",
    "            batch_end = min(n, i + batch_size)\n",
    "\n",
    "            for j in range(0, n, batch_size):\n",
    "                if i > j:\n",
    "                    continue \n",
    "                \n",
    "                batch_start2 = j\n",
    "                batch_end2 = min(n, j + batch_size)\n",
    "                \n",
    "                distances = np.zeros((batch_end-batch_start, batch_end2-batch_start2))\n",
    "                \n",
    "                for k in range(batch_end-batch_start):\n",
    "                    for l in range(batch_end2-batch_start2):\n",
    "                        distances[k][l] = 1 - damerauLevenshtein(title_words_array[i + k], title_words_array[j + l], \n",
    "                                                            similarity=True)\n",
    "                        \n",
    "                lex_sim[batch_start:batch_end, batch_start2:batch_end2] = distances\n",
    "                pbar.update(1)\n",
    "                \n",
    "                if i < j:\n",
    "                    lex_sim[batch_start2:batch_end2, batch_start:batch_end] = distances.transpose()\n",
    "                    pbar.update(1)\n",
    "\n",
    "    return lex_sim"
   ]
  },
  {
   "cell_type": "code",
   "execution_count": 43,
   "id": "94523b9e",
   "metadata": {},
   "outputs": [
    {
     "name": "stderr",
     "output_type": "stream",
     "text": [
      "Przeliczone batche:: 100%|█████████████████████████████████████████████████████████████████████████████████████████████████████████████████████████████████████████████████████████████████████████| 1/1 [00:25<00:00, 25.79s/it]\n"
     ]
    }
   ],
   "source": [
    "lex_similarity = lex_sim(title_words_array, 5000)"
   ]
  },
  {
   "cell_type": "code",
   "execution_count": 44,
   "id": "e6aeb5cd",
   "metadata": {},
   "outputs": [
    {
     "data": {
      "text/plain": [
       "array([[0.        , 0.81818182, 0.8       , 0.92857143, 0.90909091,\n",
       "        0.8       , 0.84615385, 1.        , 1.        , 0.9       ],\n",
       "       [0.81818182, 0.        , 0.27272727, 0.85714286, 1.        ,\n",
       "        0.66666667, 0.69230769, 0.90909091, 1.        , 0.90909091],\n",
       "       [0.8       , 0.27272727, 0.        , 0.78571429, 0.90909091,\n",
       "        0.66666667, 0.69230769, 0.9       , 0.92857143, 0.9       ],\n",
       "       [0.92857143, 0.85714286, 0.78571429, 0.        , 0.64285714,\n",
       "        1.        , 0.71428571, 0.42857143, 0.42857143, 0.71428571],\n",
       "       [0.90909091, 1.        , 0.90909091, 0.64285714, 0.        ,\n",
       "        0.93333333, 0.76923077, 0.45454545, 0.5       , 0.90909091],\n",
       "       [0.8       , 0.66666667, 0.66666667, 1.        , 0.93333333,\n",
       "        0.        , 0.86666667, 1.        , 0.93333333, 0.93333333],\n",
       "       [0.84615385, 0.69230769, 0.69230769, 0.71428571, 0.76923077,\n",
       "        0.86666667, 0.        , 0.76923077, 0.71428571, 0.53846154],\n",
       "       [1.        , 0.90909091, 0.9       , 0.42857143, 0.45454545,\n",
       "        1.        , 0.76923077, 0.        , 0.64285714, 0.9       ],\n",
       "       [1.        , 1.        , 0.92857143, 0.42857143, 0.5       ,\n",
       "        0.93333333, 0.71428571, 0.64285714, 0.        , 0.92857143],\n",
       "       [0.9       , 0.90909091, 0.9       , 0.71428571, 0.90909091,\n",
       "        0.93333333, 0.53846154, 0.9       , 0.92857143, 0.        ]])"
      ]
     },
     "execution_count": 44,
     "metadata": {},
     "output_type": "execute_result"
    }
   ],
   "source": [
    "lex_similarity[0:10, 0:10]"
   ]
  },
  {
   "cell_type": "code",
   "execution_count": 45,
   "id": "87d52c9a",
   "metadata": {},
   "outputs": [],
   "source": [
    "lex_df = pd.DataFrame(lex_similarity)\n",
    "lex_df.to_csv(\"lex_similarity_final_valid.csv\")"
   ]
  },
  {
   "cell_type": "code",
   "execution_count": 57,
   "id": "74f18324",
   "metadata": {},
   "outputs": [
    {
     "data": {
      "text/plain": [
       "0       intel xeon bronze 31061 70ghz fc lga1411mb cac...\n",
       "1       intel xeon e 4607 processor ghz box 12 mb smar...\n",
       "2       intel xeon e 2660v processor ghz 25 mb smart c...\n",
       "3       hewlett packard enterprise dl380 g intel xeon ...\n",
       "4       hewlett packard enterprise amd opteron 2427 gh...\n",
       "                              ...                        \n",
       "3334           beko wtg821bw kg 1200 spin washing machine\n",
       "3335       lg f14afdsa 1400 spin kg steam washing machine\n",
       "3336    bosch serie wab28261gb kg load 1400 spin washi...\n",
       "3337          siemens wk14d321gb built in kg washer dryer\n",
       "3338    hotpoint wmbf944k 1400rpm kg experience washin...\n",
       "Name: Title, Length: 3339, dtype: object"
      ]
     },
     "execution_count": 57,
     "metadata": {},
     "output_type": "execute_result"
    }
   ],
   "source": [
    "test_df['Title']"
   ]
  }
 ],
 "metadata": {
  "kernelspec": {
   "display_name": "Python 3 (ipykernel)",
   "language": "python",
   "name": "python3"
  },
  "language_info": {
   "codemirror_mode": {
    "name": "ipython",
    "version": 3
   },
   "file_extension": ".py",
   "mimetype": "text/x-python",
   "name": "python",
   "nbconvert_exporter": "python",
   "pygments_lexer": "ipython3",
   "version": "3.9.13"
  }
 },
 "nbformat": 4,
 "nbformat_minor": 5
}
